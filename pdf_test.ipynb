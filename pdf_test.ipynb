{
 "cells": [
  {
   "cell_type": "code",
   "execution_count": null,
   "metadata": {},
   "outputs": [],
   "source": [
    "! pip install pymupdf pdfplumber jieba"
   ]
  },
  {
   "cell_type": "code",
   "execution_count": null,
   "metadata": {},
   "outputs": [],
   "source": [
    "import fitz  # PyMuPDF\n",
    "\n",
    "def read_pdf_text(pdf_path, page_num):\n",
    "    doc = fitz.open(pdf_path)\n",
    "    text = \"\"\n",
    "    '''\n",
    "    for page in doc:\n",
    "        text += page.get_text(\"text\") + \"\\n\"\n",
    "    return text\n",
    "    '''\n",
    "    return doc[page_num].get_text(\"text\")\n",
    "# 測試讀取 PDF\n",
    "pdf_file = \"./pdf_file/中央論文1.pdf\"  # 請確保這個 PDF 檔案存在\n",
    "print(read_pdf_text(pdf_file, 25))\n"
   ]
  },
  {
   "cell_type": "markdown",
   "metadata": {},
   "source": [
    "## 嘗試抓文字位置"
   ]
  },
  {
   "cell_type": "code",
   "execution_count": null,
   "metadata": {},
   "outputs": [],
   "source": [
    "import jieba\n",
    "\n",
    "def extract_text_with_positions(pdf_path):\n",
    "    doc = fitz.open(pdf_path)\n",
    "    text_positions = []\n",
    "    \n",
    "    \n",
    "    for page_num, page in enumerate(doc):\n",
    "        blocks = page.get_text(\"blocks\")  # 取得所有單字及其位置\n",
    "        for block in blocks:\n",
    "            x0, y0, x1, y1, text, *_ = block  # 取得單字位置與內容\n",
    "            #words = list(jieba.cut(text))\n",
    "            text_positions.append((page_num, text, (x0, y0, x1, y1)))\n",
    "    \n",
    "    \n",
    "    return text_positions\n",
    "\n",
    "text_positions = extract_text_with_positions(pdf_file)\n",
    "for pos in text_positions:\n",
    "    print(pos) "
   ]
  },
  {
   "cell_type": "code",
   "execution_count": null,
   "metadata": {},
   "outputs": [],
   "source": [
    "def extract_text_test(pdf_path, page_num):\n",
    "    doc = fitz.open(pdf_path)\n",
    "    text_positions = []\n",
    "    page = doc[page_num]\n",
    "    blocks = page.get_text(\"blocks\")  # 取得所有單字及其位置\n",
    "    for block in blocks:\n",
    "        x0, y0, x1, y1, text, *_ = block  # 取得單字位置與內容\n",
    "        text_positions.append((page_num, text, (x0, y0, x1, y1)))\n",
    "    return text_positions\n",
    "\n",
    "text_positions = extract_text_test(pdf_file, 18)\n",
    "for pos in text_positions:\n",
    "    print(pos)  \n",
    "    "
   ]
  },
  {
   "cell_type": "code",
   "execution_count": null,
   "metadata": {},
   "outputs": [],
   "source": [
    "text_positions = extract_text_test(pdf_file, 19)\n",
    "for pos in text_positions:\n",
    "    print(pos)  "
   ]
  },
  {
   "cell_type": "markdown",
   "metadata": {},
   "source": [
    "# 抓圖片測試"
   ]
  },
  {
   "cell_type": "code",
   "execution_count": null,
   "metadata": {},
   "outputs": [],
   "source": [
    "import os\n",
    "\n",
    "def extract_images_from_page(pdf_path, page_number, output_folder=\"images\"):\n",
    "    # 打開 PDF 文件\n",
    "    doc = fitz.open(pdf_path)\n",
    "    page = doc[page_number]  # 取得指定頁面\n",
    "    \n",
    "    # 建立輸出資料夾\n",
    "    os.makedirs(output_folder, exist_ok=True)\n",
    "\n",
    "    image_count = 0\n",
    "    for img_index, img in enumerate(page.get_images(full=True)):\n",
    "        xref = img[0]  # 取得圖片的 xref\n",
    "        base_image = doc.extract_image(xref)  # 提取圖片數據\n",
    "        image_bytes = base_image[\"image\"]  # 圖片的二進制數據\n",
    "        image_ext = base_image[\"ext\"]  # 圖片的格式 (通常是 'png' 或 'jpeg')\n",
    "\n",
    "        # 生成圖片檔名\n",
    "        image_filename = os.path.join(output_folder, f\"page{page_number+1}_img{img_index+1}.{image_ext}\")\n",
    "\n",
    "        # 保存圖片\n",
    "        with open(image_filename, \"wb\") as image_file:\n",
    "            image_file.write(image_bytes)\n",
    "\n",
    "        image_count += 1\n",
    "        print(f\"圖片已儲存：{image_filename}\")\n",
    "\n",
    "    if image_count == 0:\n",
    "        print(\"此頁沒有圖片。\")\n",
    "\n",
    "# 使用範例\n",
    "\n",
    "extract_images_from_page(pdf_file, 27)\n"
   ]
  },
  {
   "cell_type": "markdown",
   "metadata": {},
   "source": [
    "## Gemini測試"
   ]
  },
  {
   "cell_type": "code",
   "execution_count": null,
   "metadata": {},
   "outputs": [],
   "source": [
    "from google import genai\n",
    "from google.genai import types\n",
    "\n",
    "api_key = input('input your api key')\n",
    "\n",
    "client = genai.Client(api_key=api_key)\n",
    "\n",
    "response = client.models.generate_content(\n",
    "                model=\"gemini-2.0-flash\",\n",
    "                contents=[read_pdf_text(pdf_file, 25)],\n",
    "                config = types.GenerateContentConfig(\n",
    "                    max_output_tokens=1000,\n",
    "                    temperature=0.5,\n",
    "                    system_instruction=\"你的工作是理解這一頁論文的內容，並判斷文字描述的是實際研究相關的內容，還是大標題、目錄、相關文件等等無關緊要的內容。當內容是實際研究相關的內容，請回傳[response: 1]的格式，若是其他無關緊要的內容，請回傳[response: 0]\"\n",
    "                        )\n",
    "                    )\n",
    "print(response.text)"
   ]
  },
  {
   "cell_type": "code",
   "execution_count": null,
   "metadata": {},
   "outputs": [],
   "source": []
  }
 ],
 "metadata": {
  "kernelspec": {
   "display_name": ".venv",
   "language": "python",
   "name": "python3"
  },
  "language_info": {
   "codemirror_mode": {
    "name": "ipython",
    "version": 3
   },
   "file_extension": ".py",
   "mimetype": "text/x-python",
   "name": "python",
   "nbconvert_exporter": "python",
   "pygments_lexer": "ipython3",
   "version": "3.12.5"
  }
 },
 "nbformat": 4,
 "nbformat_minor": 2
}

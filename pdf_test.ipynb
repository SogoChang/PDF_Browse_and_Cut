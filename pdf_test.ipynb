{
 "cells": [
  {
   "cell_type": "code",
   "execution_count": null,
   "metadata": {},
   "outputs": [],
   "source": [
    "! pip install pymupdf pdfplumber jieba"
   ]
  },
  {
   "cell_type": "code",
   "execution_count": 13,
   "metadata": {},
   "outputs": [
    {
     "name": "stdout",
     "output_type": "stream",
     "text": [
      "國\n",
      "立\n",
      "中\n",
      "央\n",
      "大\n",
      "學\n",
      "資　訊　工　程　學　系\n",
      "碩　士　論　文\n",
      "使用大型語言模型進行機器控制指令的自動化生\n",
      "成\n",
      "Automated Generation of Machine Control\n",
      "Commands Using Large Language Models\n",
      "研究生：蔡時富\n",
      "指導教授：蘇木春\n",
      "博士\n",
      "中華民國一百一十三年六月\n",
      "\n"
     ]
    }
   ],
   "source": [
    "import fitz  # PyMuPDF\n",
    "\n",
    "def read_pdf_text(pdf_path):\n",
    "    doc = fitz.open(pdf_path)\n",
    "    text = \"\"\n",
    "    '''\n",
    "    for page in doc:\n",
    "        text += page.get_text(\"text\") + \"\\n\"\n",
    "    return text\n",
    "    '''\n",
    "    return doc[0].get_text(\"text\")\n",
    "# 測試讀取 PDF\n",
    "pdf_file = \"./pdf_file/中央論文1.pdf\"  # 請確保這個 PDF 檔案存在\n",
    "print(read_pdf_text(pdf_file))\n"
   ]
  },
  {
   "cell_type": "code",
   "execution_count": null,
   "metadata": {},
   "outputs": [],
   "source": [
    "import jieba\n",
    "\n",
    "def extract_text_with_positions(pdf_path):\n",
    "    doc = fitz.open(pdf_path)\n",
    "    text_positions = []\n",
    "    \n",
    "    \n",
    "    for page_num, page in enumerate(doc):\n",
    "        blocks = page.get_text(\"blocks\")  # 取得所有單字及其位置\n",
    "        for block in blocks:\n",
    "            x0, y0, x1, y1, text, *_ = block  # 取得單字位置與內容\n",
    "            #words = list(jieba.cut(text))\n",
    "            text_positions.append((page_num, text, (x0, y0, x1, y1)))\n",
    "    \n",
    "    \n",
    "    return text_positions\n",
    "\n",
    "text_positions = extract_text_with_positions(pdf_file)\n",
    "for pos in text_positions:\n",
    "    print(pos) "
   ]
  },
  {
   "cell_type": "code",
   "execution_count": 15,
   "metadata": {},
   "outputs": [
    {
     "name": "stdout",
     "output_type": "stream",
     "text": [
      "(18, '一、緒論\\n', (241.1580047607422, 163.1025390625, 382.4629211425781, 192.85093688964844))\n",
      "(18, '1.1\\n研究動機\\n', (85.03900146484375, 247.59033203125, 214.17999267578125, 269.13885498046875))\n",
      "(18, '在現今蓬勃發展的人工智慧領域中，隨著高效能運算技術(High\\n', (113.73199462890625, 292.8127136230469, 538.5827026367188, 307.7130126953125))\n",
      "(18, 'Performance Computing, HPC) [1] 的快速發展，許多大型語言模型（Large\\n', (85.03900146484375, 318.21771240234375, 538.590087890625, 333.1180114746094))\n",
      "(18, 'Language Model, LLM）[2]，如OpenAI 的Chat-GPT [3]、Meta 的Llama2 [4]、\\n', (85.03900146484375, 343.6227111816406, 561.6721801757812, 358.52301025390625))\n",
      "(18, 'Google 的Gemini [5] 的問世，至今已經深刻改變了我們對於人工智慧與\\n', (85.03900146484375, 369.0267028808594, 538.580810546875, 383.927001953125))\n",
      "(18, '其應用前景的認知。這些大型模型的出現不僅擴大了我們對於人工智慧\\n', (85.03900146484375, 394.43170166015625, 538.5796508789062, 408.77789306640625))\n",
      "(18, '應用的想像，同時突破了人工智慧技術在各個不同領域中應用的可能，\\n', (85.03900146484375, 419.8367004394531, 544.791748046875, 434.1828918457031))\n",
      "(18, '目前大型語言模型已被廣泛的應用在客服、教育、編輯寫作、程式開發\\n', (85.03900146484375, 445.24169921875, 538.57958984375, 459.587890625))\n",
      "(18, '與多媒體創作領域，成為了人們生活與工作中的一大幫助。此外，對於\\n', (85.03900146484375, 470.64569091796875, 538.57958984375, 484.99188232421875))\n",
      "(18, '這些模型的需求不斷增長，也促使了各大科技公司不斷投入資源，提供\\n', (85.03900146484375, 496.0506896972656, 538.57958984375, 510.3968811035156))\n",
      "(18, '更加強大且多樣化的大型語言模型，使的目前的人工智慧發展方向更加\\n', (85.03900146484375, 521.4556884765625, 538.5796508789062, 535.8019409179688))\n",
      "(18, '明朗。\\n', (85.03900146484375, 546.8606567382812, 128.07760620117188, 561.2069091796875))\n",
      "(18, '本研究旨在探索大型語言模型在自動程式碼生成(Code Genera-\\n', (113.73200225830078, 572.2646484375, 538.583740234375, 587.1649780273438))\n",
      "(18, 'tion) [6] 領域的能力，特別是在控制機器方面的應用。眾所周知，目前許\\n', (85.03900146484375, 597.669677734375, 538.5764770507812, 612.5700073242188))\n",
      "(18, '多研究集中於微調模型本身，以提升其在單一任務上的效能。然而我們\\n', (85.03900146484375, 623.07470703125, 538.57958984375, 637.4209594726562))\n",
      "(18, '認為，將大型語言模型應用於控制機器，是一個具挑戰性且有研究價值\\n', (85.03900146484375, 648.4786987304688, 538.57958984375, 662.824951171875))\n",
      "(18, '的應用方向。將使用者說出的自然語言指令透過語言模型轉換為程式碼，\\n', (85.03900146484375, 673.8837280273438, 544.79150390625, 688.22998046875))\n",
      "(18, '能讓機器更加靈活的被控制，進一步擴大了使用者與機器之間的交互性，\\n', (85.03900146484375, 699.2887573242188, 544.79150390625, 713.635009765625))\n",
      "(18, '並使得使用者能夠以更加直觀和自然的方式與機器進行互動。\\n', (85.03900146484375, 724.6937866210938, 472.3863525390625, 739.0400390625))\n",
      "(18, '這項研究的重要性在於其對於智慧機器技術發展和應用的潛在影響。\\n', (113.73200225830078, 750.0977783203125, 544.347412109375, 764.4440307617188))\n",
      "(18, '1\\n', (309.32000732421875, 793.3167114257812, 314.3013000488281, 803.2793579101562))\n"
     ]
    }
   ],
   "source": [
    "def extract_text_test(pdf_path, page_num):\n",
    "    doc = fitz.open(pdf_path)\n",
    "    text_positions = []\n",
    "    page = doc[page_num]\n",
    "    blocks = page.get_text(\"blocks\")  # 取得所有單字及其位置\n",
    "    for block in blocks:\n",
    "        x0, y0, x1, y1, text, *_ = block  # 取得單字位置與內容\n",
    "        text_positions.append((page_num, text, (x0, y0, x1, y1)))\n",
    "    return text_positions\n",
    "\n",
    "text_positions = extract_text_test(pdf_file, 18)\n",
    "for pos in text_positions:\n",
    "    print(pos)  \n",
    "    "
   ]
  },
  {
   "cell_type": "markdown",
   "metadata": {},
   "source": [
    "# 抓圖片測試"
   ]
  },
  {
   "cell_type": "code",
   "execution_count": null,
   "metadata": {},
   "outputs": [],
   "source": [
    "import os\n",
    "\n",
    "def extract_images_from_page(pdf_path, page_number, output_folder=\"images\"):\n",
    "    # 打開 PDF 文件\n",
    "    doc = fitz.open(pdf_path)\n",
    "    page = doc[page_number]  # 取得指定頁面\n",
    "    \n",
    "    # 建立輸出資料夾\n",
    "    os.makedirs(output_folder, exist_ok=True)\n",
    "\n",
    "    image_count = 0\n",
    "    for img_index, img in enumerate(page.get_images(full=True)):\n",
    "        xref = img[0]  # 取得圖片的 xref\n",
    "        base_image = doc.extract_image(xref)  # 提取圖片數據\n",
    "        image_bytes = base_image[\"image\"]  # 圖片的二進制數據\n",
    "        image_ext = base_image[\"ext\"]  # 圖片的格式 (通常是 'png' 或 'jpeg')\n",
    "\n",
    "        # 生成圖片檔名\n",
    "        image_filename = os.path.join(output_folder, f\"page{page_number+1}_img{img_index+1}.{image_ext}\")\n",
    "\n",
    "        # 保存圖片\n",
    "        with open(image_filename, \"wb\") as image_file:\n",
    "            image_file.write(image_bytes)\n",
    "\n",
    "        image_count += 1\n",
    "        print(f\"圖片已儲存：{image_filename}\")\n",
    "\n",
    "    if image_count == 0:\n",
    "        print(\"此頁沒有圖片。\")\n",
    "\n",
    "# 使用範例\n",
    "\n",
    "extract_images_from_page(pdf_file, 27)\n"
   ]
  },
  {
   "cell_type": "code",
   "execution_count": null,
   "metadata": {},
   "outputs": [],
   "source": []
  }
 ],
 "metadata": {
  "kernelspec": {
   "display_name": ".venv",
   "language": "python",
   "name": "python3"
  },
  "language_info": {
   "codemirror_mode": {
    "name": "ipython",
    "version": 3
   },
   "file_extension": ".py",
   "mimetype": "text/x-python",
   "name": "python",
   "nbconvert_exporter": "python",
   "pygments_lexer": "ipython3",
   "version": "3.12.5"
  }
 },
 "nbformat": 4,
 "nbformat_minor": 2
}
